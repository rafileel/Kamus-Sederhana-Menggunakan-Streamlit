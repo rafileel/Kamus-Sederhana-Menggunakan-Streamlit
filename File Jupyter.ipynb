{
 "cells": [
  {
   "cell_type": "markdown",
   "id": "f53e1ce2",
   "metadata": {},
   "source": [
    "# Latihan 1"
   ]
  },
  {
   "cell_type": "code",
   "execution_count": 78,
   "id": "fb0a90bc",
   "metadata": {},
   "outputs": [],
   "source": [
    "from Sastrawi.Stemmer.StemmerFactory import StemmerFactory"
   ]
  },
  {
   "cell_type": "code",
   "execution_count": 79,
   "id": "91c0f577",
   "metadata": {},
   "outputs": [],
   "source": [
    "# membuat objek stemmer\n",
    "factory = StemmerFactory()\n",
    "stemmer = factory.create_stemmer()"
   ]
  },
  {
   "cell_type": "code",
   "execution_count": 80,
   "id": "d045ec09",
   "metadata": {},
   "outputs": [],
   "source": [
    "# contoh teks\n",
    "text = \"Saya sedang belajar pemrosesan bahasa alami dengan menggunakan Python.\""
   ]
  },
  {
   "cell_type": "code",
   "execution_count": 81,
   "id": "05a9f754",
   "metadata": {},
   "outputs": [],
   "source": [
    "# melakukan stemming pada teks\n",
    "stemmed_text = stemmer.stem(text)"
   ]
  },
  {
   "cell_type": "code",
   "execution_count": 82,
   "id": "a6646eb9",
   "metadata": {},
   "outputs": [
    {
     "name": "stdout",
     "output_type": "stream",
     "text": [
      "saya sedang ajar pemrosesan bahasa alami dengan guna python\n"
     ]
    }
   ],
   "source": [
    "print(stemmed_text)"
   ]
  },
  {
   "cell_type": "markdown",
   "id": "fb8de2bd",
   "metadata": {},
   "source": [
    "# Latihan 2"
   ]
  },
  {
   "cell_type": "code",
   "execution_count": 83,
   "id": "fe265963",
   "metadata": {},
   "outputs": [],
   "source": [
    "# membuat kamus kosong\n",
    "kamus = {}"
   ]
  },
  {
   "cell_type": "code",
   "execution_count": 84,
   "id": "42c88d05",
   "metadata": {},
   "outputs": [],
   "source": [
    "# menambahkan kata ke dalam kamus\n",
    "kamus[\"apel\"] = \"buah yang memiliki daging buah yang manis\"\n",
    "kamus[\"jeruk\"] = \"buah yang memiliki daging buah yang asam\""
   ]
  },
  {
   "cell_type": "code",
   "execution_count": 85,
   "id": "63575e0c",
   "metadata": {},
   "outputs": [
    {
     "name": "stdout",
     "output_type": "stream",
     "text": [
      "{'apel': 'buah yang memiliki daging buah yang manis', 'jeruk': 'buah yang memiliki daging buah yang asam'}\n"
     ]
    }
   ],
   "source": [
    "# mencetak isi kamus\n",
    "print(kamus)"
   ]
  },
  {
   "cell_type": "code",
   "execution_count": 86,
   "id": "0272145e",
   "metadata": {},
   "outputs": [
    {
     "name": "stdout",
     "output_type": "stream",
     "text": [
      "Arti dari kata 'apel' adalah buah yang memiliki daging buah yang manis\n"
     ]
    }
   ],
   "source": [
    "# mencetak arti dari sebuah kata\n",
    "print(\"Arti dari kata 'apel' adalah\", kamus[\"apel\"])"
   ]
  },
  {
   "cell_type": "code",
   "execution_count": 87,
   "id": "5f67dba7",
   "metadata": {},
   "outputs": [],
   "source": [
    "import csv"
   ]
  },
  {
   "cell_type": "code",
   "execution_count": 88,
   "id": "ad1f03d8",
   "metadata": {},
   "outputs": [],
   "source": [
    "# membuat kamus kosong\n",
    "kamus = {}"
   ]
  },
  {
   "cell_type": "code",
   "execution_count": 89,
   "id": "ab88a63b",
   "metadata": {},
   "outputs": [
    {
     "name": "stdout",
     "output_type": "stream",
     "text": [
      "<_csv.reader object at 0x00000195D7337760>\n",
      "['indonesia', 'inggris']\n",
      "['Nanas', 'pineapple']\n",
      "['Alpukat', 'Avocado']\n",
      "['Anggur', 'Grapes']\n",
      "['Apel', 'Apple']\n",
      "['Aprikot', 'Apricot']\n",
      "['Ara', 'Fig']\n",
      "['Asam Jawa', 'Tamarind']\n",
      "['Belimbing', 'Starfruit']\n",
      "['Bengkuang', 'Jicama']\n",
      "['Blueberry', 'Blueberry']\n",
      "['Ceri', 'Cherry']\n",
      "['Jeruk', 'Orange']\n",
      "['Pisang', 'Banana']\n",
      "['Jeruk Nipis', 'Lime']\n",
      "['Kurma', 'Dates']\n",
      "['Ciplukan', 'Physalis']\n",
      "['Paprika', 'Paprica']\n",
      "['Kemiri', 'Hazelnut']\n",
      "['Mentimun', 'Cucumber']\n",
      "['Kenari', 'Walnut']\n",
      "['Jeruk lemon', ' Lemon']\n",
      "['Jeruk bali', ' Pomelo']\n",
      "['Duku', 'Duku']\n",
      "['Durian', 'Durian']\n",
      "['Jambu air', 'Water apple']\n",
      "['Jambu bol', 'Malay apple']\n",
      "['Kelapa', 'Coconut']\n",
      "['Kelengkeng', 'Longan/Litchi']\n",
      "['Mangga', 'Mango']\n",
      "['Leci', 'Lychee']\n"
     ]
    }
   ],
   "source": [
    "with open('kamus2.csv') as csv_file:\n",
    "    csv_reader = csv.reader(csv_file, delimiter=\",\")\n",
    "    print(csv_reader)\n",
    "    for row in csv_reader:\n",
    "        print(row)"
   ]
  },
  {
   "cell_type": "code",
   "execution_count": 90,
   "id": "a1584a8c",
   "metadata": {},
   "outputs": [
    {
     "name": "stdout",
     "output_type": "stream",
     "text": [
      "{'indonesia': 'inggris', 'Nanas': 'pineapple', 'Alpukat': 'Avocado', 'Anggur': 'Grapes', 'Apel': 'Apple', 'Aprikot': 'Apricot', 'Ara': 'Fig', 'Asam Jawa': 'Tamarind', 'Belimbing': 'Starfruit', 'Bengkuang': 'Jicama', 'Blueberry': 'Blueberry', 'Ceri': 'Cherry', 'Jeruk': 'Orange', 'Pisang': 'Banana', 'Jeruk Nipis': 'Lime', 'Kurma': 'Dates', 'Ciplukan': 'Physalis', 'Paprika': 'Paprica', 'Kemiri': 'Hazelnut', 'Mentimun': 'Cucumber', 'Kenari': 'Walnut', 'Jeruk lemon': ' Lemon', 'Jeruk bali': ' Pomelo', 'Duku': 'Duku', 'Durian': 'Durian', 'Jambu air': 'Water apple', 'Jambu bol': 'Malay apple', 'Kelapa': 'Coconut', 'Kelengkeng': 'Longan/Litchi', 'Mangga': 'Mango', 'Leci': 'Lychee'}\n"
     ]
    }
   ],
   "source": [
    "# membuka file CSV kamus bahasa Indonesia\n",
    "with open('kamus2.csv', newline='') as csvfile:\n",
    "    reader = csv.reader(csvfile, delimiter=',', quotechar='\"')\n",
    "# membaca setiap baris dalam file CSV dan menambahkannya ke dalam kamus\n",
    "    for row in reader:\n",
    "        kamus[row[0]] = row[1]\n",
    "# mencetak isi kamus\n",
    "print(kamus)"
   ]
  },
  {
   "cell_type": "code",
   "execution_count": 91,
   "id": "1e8dc0de",
   "metadata": {},
   "outputs": [
    {
     "name": "stdout",
     "output_type": "stream",
     "text": [
      "Arti dari kata 'Apel' adalah Apple\n"
     ]
    }
   ],
   "source": [
    "# mencetak arti dari sebuah kata\n",
    "print(\"Arti dari kata 'Apel' adalah\", kamus[\"Apel\"])"
   ]
  },
  {
   "cell_type": "code",
   "execution_count": 92,
   "id": "f34151ac",
   "metadata": {},
   "outputs": [
    {
     "name": "stdout",
     "output_type": "stream",
     "text": [
      "  indonesia    inggris\n",
      "0     Nanas  pineapple\n",
      "1   Alpukat    Avocado\n",
      "2    Anggur     Grapes\n",
      "3      Apel      Apple\n",
      "4   Aprikot    Apricot\n"
     ]
    }
   ],
   "source": [
    "import pandas as pd\n",
    "# membaca file csv kamus bahasa Indonesia\n",
    "df = pd.read_csv('Kamus2.csv', delimiter=',')\n",
    "# menampilkan isi dari dataframe\n",
    "print(df.head())\n"
   ]
  },
  {
   "cell_type": "code",
   "execution_count": 93,
   "id": "ccb06af5",
   "metadata": {},
   "outputs": [
    {
     "name": "stdout",
     "output_type": "stream",
     "text": [
      "Nanas pineapple\n",
      "Alpukat Avocado\n",
      "Anggur Grapes\n",
      "Apel Apple\n",
      "Aprikot Apricot\n",
      "Ara Fig\n",
      "Asam Jawa Tamarind\n",
      "Belimbing Starfruit\n",
      "Bengkuang Jicama\n",
      "Blueberry Blueberry\n",
      "Ceri Cherry\n",
      "Jeruk Orange\n",
      "Pisang Banana\n",
      "Jeruk Nipis Lime\n",
      "Kurma Dates\n",
      "Ciplukan Physalis\n",
      "Paprika Paprica\n",
      "Kemiri Hazelnut\n",
      "Mentimun Cucumber\n",
      "Kenari Walnut\n",
      "Jeruk lemon  Lemon\n",
      "Jeruk bali  Pomelo\n",
      "Duku Duku\n",
      "Durian Durian\n",
      "Jambu air Water apple\n",
      "Jambu bol Malay apple\n",
      "Kelapa Coconut\n",
      "Kelengkeng Longan/Litchi\n",
      "Mangga Mango\n",
      "Leci Lychee\n"
     ]
    }
   ],
   "source": [
    "import pandas as pd\n",
    "# membaca file csv kamus bahasa Indonesia-Inggris\n",
    "df = pd.read_csv('Kamus2.csv', delimiter=',')\n",
    "# menampilkan kata-kata dalam bahasa Indonesia dan Inggris\n",
    "for index, row in df.iterrows():\n",
    " kata_indonesia = row['indonesia']\n",
    " kata_inggris = row['inggris']\n",
    " print(kata_indonesia, kata_inggris)\n"
   ]
  },
  {
   "cell_type": "code",
   "execution_count": 94,
   "id": "e0bb7e08",
   "metadata": {},
   "outputs": [
    {
     "name": "stdout",
     "output_type": "stream",
     "text": [
      "  indonesia    inggris\n",
      "0     Nanas  pineapple\n",
      "1   Alpukat    Avocado\n",
      "2    Anggur     Grapes\n",
      "3      Apel      Apple\n",
      "4   Aprikot    Apricot\n",
      "Kata 'Nanas' dalam bahasa Inggris adalah 'pineapple'\n"
     ]
    }
   ],
   "source": [
    "import pandas as pd\n",
    "# membaca file CSV kamus bahasa Indonesia-Inggris\n",
    "df = pd.read_csv('Kamus2.csv')\n",
    "# menampilkan 5 baris pertama dalam dataframe\n",
    "print(df.head())\n",
    "# mencari kata dalam bahasa Inggris berdasarkan kata dalam bahasa Indonesia\n",
    "kata_indonesia = 'Nanas'\n",
    "kata_inggris = df.loc[df['indonesia'] == kata_indonesia, 'inggris'].values\n",
    "print(f\"Kata '{kata_indonesia}' dalam bahasa Inggris adalah '{kata_inggris[0]}'\")"
   ]
  },
  {
   "cell_type": "code",
   "execution_count": 95,
   "id": "d3139703",
   "metadata": {},
   "outputs": [],
   "source": [
    "import pandas as pd\n",
    "import streamlit as st\n",
    "# membaca file CSV kamus bahasa Indonesia-Inggris\n",
    "df = pd.read_csv('Kamus2.csv')\n",
    "st.title('Kamus Bahasa Indonesia-Inggris')\n",
    "# membuat input box untuk memasukkan kata dalam bahasa Indonesia\n",
    "input_indonesia = st.text_input('Masukkan kata dalam bahasa Indonesia')\n",
    "# jika pengguna memasukkan kata, maka program akan mencari arti kata dalam bahasa Inggris\n",
    "if input_indonesia:\n",
    " result = df.loc[df['indonesia'] == input_indonesia, 'inggris'].values\n",
    " # menampilkan hasil pencarian\n",
    " if len(result) > 0:\n",
    "    st.write(f\"Arti kata '{input_indonesia}' dalam bahasa Inggris adalah '{result[0]}'\")\n",
    " else:\n",
    "    st.write(f\"Tidak ditemukan arti kata untuk '{input_indonesia}' dalam bahasa Inggris\")\n"
   ]
  },
  {
   "cell_type": "code",
   "execution_count": 96,
   "id": "e0b948dc",
   "metadata": {},
   "outputs": [],
   "source": [
    "import pandas as pd\n",
    "import streamlit as st\n",
    "# Load the Indonesian-English dictionary\n",
    "dictionary = pd.read_csv(\"Kamus1.csv\")\n",
    "def translate(word):\n",
    " translation = dictionary[dictionary[\"indonesia\"] == word][\"inggris\"]\n",
    " if len(translation) > 0:\n",
    "        return translation.values[0]\n",
    " else:\n",
    "        return \"Word not found in dictionary.\"\n",
    "# Set up the Streamlit app\n",
    "st.title(\"Kamus Bahasa Indonesia-Inggris\")\n",
    "word = st.text_input(\"Masukkan kata dalam bahasa Indonesia:\")\n",
    "if st.button(\"Terjemahkan\"):\n",
    " translation = translate(word)\n",
    " st.write(\"Arti kata dalam bahasa Inggris:\")\n",
    " st.write(translation)"
   ]
  }
 ],
 "metadata": {
  "kernelspec": {
   "display_name": "Python 3 (ipykernel)",
   "language": "python",
   "name": "python3"
  },
  "language_info": {
   "codemirror_mode": {
    "name": "ipython",
    "version": 3
   },
   "file_extension": ".py",
   "mimetype": "text/x-python",
   "name": "python",
   "nbconvert_exporter": "python",
   "pygments_lexer": "ipython3",
   "version": "3.10.8"
  },
  "vp": {
   "vp_config_version": "1.0.0",
   "vp_menu_width": 273,
   "vp_note_display": false,
   "vp_note_width": 0,
   "vp_position": {
    "width": 278
   },
   "vp_section_display": false,
   "vp_signature": "VisualPython"
  }
 },
 "nbformat": 4,
 "nbformat_minor": 5
}
